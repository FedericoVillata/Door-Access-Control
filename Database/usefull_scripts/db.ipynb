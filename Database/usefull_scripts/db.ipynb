{
 "cells": [
  {
   "cell_type": "code",
   "execution_count": 8,
   "metadata": {},
   "outputs": [],
   "source": [
    "import mysql.connector\n",
    "import os\n",
    "import subprocess\n"
   ]
  },
  {
   "cell_type": "code",
   "execution_count": 9,
   "metadata": {},
   "outputs": [],
   "source": [
    "db_status = \"new\"\n",
    "db = None\n",
    "db_table_list = []\n",
    "db_config = {\n",
    "    \"host\": \"127.0.0.1\",\n",
    "    \"port\": 3306,\n",
    "    \"user\": \"root\",\n",
    "    \"password\": \"my-secret-pw\",\n",
    "    \"database\": \"aziendadb\"\n",
    "}"
   ]
  },
  {
   "cell_type": "code",
   "execution_count": 14,
   "metadata": {},
   "outputs": [],
   "source": [
    "def db_connect():\n",
    "    global db_status\n",
    "    global db\n",
    "    if db_status != \"connected\":\n",
    "        db = mysql.connector.connect(\n",
    "            host=db_config[\"host\"],\n",
    "            port=db_config[\"port\"],\n",
    "            user=db_config[\"user\"],\n",
    "            password=db_config[\"password\"],\n",
    "            database=db_config[\"database\"]\n",
    "        )\n",
    "        db_status = \"connected\"\n",
    "        print(db_status)"
   ]
  },
  {
   "cell_type": "code",
   "execution_count": 18,
   "metadata": {},
   "outputs": [
    {
     "name": "stdout",
     "output_type": "stream",
     "text": [
      "connected\n"
     ]
    }
   ],
   "source": [
    "db_connect()"
   ]
  },
  {
   "cell_type": "code",
   "execution_count": 5,
   "metadata": {},
   "outputs": [],
   "source": [
    "def db_import( sql_path ):\n",
    "    db_connect()\n",
    "    if db_status == \"connected\" and os.path.exists(sql_path):\n",
    "        print(\"ok\")\n",
    "        config = db_config\n",
    "        command = f\"mysql -h {config['host']} -P {config['port']} -u {config['user']} -p{config['password']} {config['database']} < {sql_path}\"\n",
    "        subprocess.run(command, shell=True, check=True)\n",
    "        "
   ]
  },
  {
   "cell_type": "code",
   "execution_count": 7,
   "metadata": {},
   "outputs": [
    {
     "name": "stdout",
     "output_type": "stream",
     "text": [
      "ok\n"
     ]
    },
    {
     "name": "stderr",
     "output_type": "stream",
     "text": [
      "mysql: [Warning] Using a password on the command line interface can be insecure.\n",
      "ERROR 1050 (42S01) at line 30: Table 'access_administration' already exists\n"
     ]
    },
    {
     "ename": "CalledProcessError",
     "evalue": "Command 'mysql -h 127.0.0.1 -P 3306 -u root -pmy-secret-pw aziendadb < ../aziendadb.sql' returned non-zero exit status 1.",
     "output_type": "error",
     "traceback": [
      "\u001b[0;31m---------------------------------------------------------------------------\u001b[0m",
      "\u001b[0;31mCalledProcessError\u001b[0m                        Traceback (most recent call last)",
      "\u001b[0;32m/tmp/ipykernel_9251/263613745.py\u001b[0m in \u001b[0;36m<module>\u001b[0;34m\u001b[0m\n\u001b[0;32m----> 1\u001b[0;31m \u001b[0mdb_import\u001b[0m\u001b[0;34m(\u001b[0m \u001b[0;34m\"../aziendadb.sql\"\u001b[0m \u001b[0;34m)\u001b[0m\u001b[0;34m\u001b[0m\u001b[0;34m\u001b[0m\u001b[0m\n\u001b[0m",
      "\u001b[0;32m/tmp/ipykernel_9251/574821196.py\u001b[0m in \u001b[0;36mdb_import\u001b[0;34m(sql_path)\u001b[0m\n\u001b[1;32m      5\u001b[0m         \u001b[0mconfig\u001b[0m \u001b[0;34m=\u001b[0m \u001b[0mdb_config\u001b[0m\u001b[0;34m\u001b[0m\u001b[0;34m\u001b[0m\u001b[0m\n\u001b[1;32m      6\u001b[0m         \u001b[0mcommand\u001b[0m \u001b[0;34m=\u001b[0m \u001b[0;34mf\"mysql -h {config['host']} -P {config['port']} -u {config['user']} -p{config['password']} {config['database']} < {sql_path}\"\u001b[0m\u001b[0;34m\u001b[0m\u001b[0;34m\u001b[0m\u001b[0m\n\u001b[0;32m----> 7\u001b[0;31m         \u001b[0msubprocess\u001b[0m\u001b[0;34m.\u001b[0m\u001b[0mrun\u001b[0m\u001b[0;34m(\u001b[0m\u001b[0mcommand\u001b[0m\u001b[0;34m,\u001b[0m \u001b[0mshell\u001b[0m\u001b[0;34m=\u001b[0m\u001b[0;32mTrue\u001b[0m\u001b[0;34m,\u001b[0m \u001b[0mcheck\u001b[0m\u001b[0;34m=\u001b[0m\u001b[0;32mTrue\u001b[0m\u001b[0;34m)\u001b[0m\u001b[0;34m\u001b[0m\u001b[0;34m\u001b[0m\u001b[0m\n\u001b[0m\u001b[1;32m      8\u001b[0m \u001b[0;34m\u001b[0m\u001b[0m\n",
      "\u001b[0;32m/usr/lib/python3.10/subprocess.py\u001b[0m in \u001b[0;36mrun\u001b[0;34m(input, capture_output, timeout, check, *popenargs, **kwargs)\u001b[0m\n\u001b[1;32m    524\u001b[0m         \u001b[0mretcode\u001b[0m \u001b[0;34m=\u001b[0m \u001b[0mprocess\u001b[0m\u001b[0;34m.\u001b[0m\u001b[0mpoll\u001b[0m\u001b[0;34m(\u001b[0m\u001b[0;34m)\u001b[0m\u001b[0;34m\u001b[0m\u001b[0;34m\u001b[0m\u001b[0m\n\u001b[1;32m    525\u001b[0m         \u001b[0;32mif\u001b[0m \u001b[0mcheck\u001b[0m \u001b[0;32mand\u001b[0m \u001b[0mretcode\u001b[0m\u001b[0;34m:\u001b[0m\u001b[0;34m\u001b[0m\u001b[0;34m\u001b[0m\u001b[0m\n\u001b[0;32m--> 526\u001b[0;31m             raise CalledProcessError(retcode, process.args,\n\u001b[0m\u001b[1;32m    527\u001b[0m                                      output=stdout, stderr=stderr)\n\u001b[1;32m    528\u001b[0m     \u001b[0;32mreturn\u001b[0m \u001b[0mCompletedProcess\u001b[0m\u001b[0;34m(\u001b[0m\u001b[0mprocess\u001b[0m\u001b[0;34m.\u001b[0m\u001b[0margs\u001b[0m\u001b[0;34m,\u001b[0m \u001b[0mretcode\u001b[0m\u001b[0;34m,\u001b[0m \u001b[0mstdout\u001b[0m\u001b[0;34m,\u001b[0m \u001b[0mstderr\u001b[0m\u001b[0;34m)\u001b[0m\u001b[0;34m\u001b[0m\u001b[0;34m\u001b[0m\u001b[0m\n",
      "\u001b[0;31mCalledProcessError\u001b[0m: Command 'mysql -h 127.0.0.1 -P 3306 -u root -pmy-secret-pw aziendadb < ../aziendadb.sql' returned non-zero exit status 1."
     ]
    }
   ],
   "source": [
    "db_import( \"../aziendadb.sql\" )"
   ]
  },
  {
   "cell_type": "code",
   "execution_count": 6,
   "metadata": {},
   "outputs": [
    {
     "ename": "DatabaseError",
     "evalue": "2003 (HY000): Can't connect to MySQL server on '127.0.0.1:3306' (111)",
     "output_type": "error",
     "traceback": [
      "\u001b[0;31m---------------------------------------------------------------------------\u001b[0m",
      "\u001b[0;31mMySQLInterfaceError\u001b[0m                       Traceback (most recent call last)",
      "\u001b[0;32m~/.local/lib/python3.10/site-packages/mysql/connector/connection_cext.py\u001b[0m in \u001b[0;36m_open_connection\u001b[0;34m(self)\u001b[0m\n\u001b[1;32m    322\u001b[0m         \u001b[0;32mtry\u001b[0m\u001b[0;34m:\u001b[0m\u001b[0;34m\u001b[0m\u001b[0;34m\u001b[0m\u001b[0m\n\u001b[0;32m--> 323\u001b[0;31m             \u001b[0mself\u001b[0m\u001b[0;34m.\u001b[0m\u001b[0m_cmysql\u001b[0m\u001b[0;34m.\u001b[0m\u001b[0mconnect\u001b[0m\u001b[0;34m(\u001b[0m\u001b[0;34m**\u001b[0m\u001b[0mcnx_kwargs\u001b[0m\u001b[0;34m)\u001b[0m\u001b[0;34m\u001b[0m\u001b[0;34m\u001b[0m\u001b[0m\n\u001b[0m\u001b[1;32m    324\u001b[0m             \u001b[0mself\u001b[0m\u001b[0;34m.\u001b[0m\u001b[0m_cmysql\u001b[0m\u001b[0;34m.\u001b[0m\u001b[0mconverter_str_fallback\u001b[0m \u001b[0;34m=\u001b[0m \u001b[0mself\u001b[0m\u001b[0;34m.\u001b[0m\u001b[0m_converter_str_fallback\u001b[0m\u001b[0;34m\u001b[0m\u001b[0;34m\u001b[0m\u001b[0m\n",
      "\u001b[0;31mMySQLInterfaceError\u001b[0m: Can't connect to MySQL server on '127.0.0.1:3306' (111)",
      "\nThe above exception was the direct cause of the following exception:\n",
      "\u001b[0;31mDatabaseError\u001b[0m                             Traceback (most recent call last)",
      "\u001b[0;32m/tmp/ipykernel_16621/4120531536.py\u001b[0m in \u001b[0;36m<module>\u001b[0;34m\u001b[0m\n\u001b[1;32m     20\u001b[0m     \u001b[0mdb_table_list\u001b[0m \u001b[0;34m=\u001b[0m \u001b[0mtable_list\u001b[0m\u001b[0;34m\u001b[0m\u001b[0;34m\u001b[0m\u001b[0m\n\u001b[1;32m     21\u001b[0m     \u001b[0;32mreturn\u001b[0m \u001b[0mtable_list\u001b[0m\u001b[0;34m\u001b[0m\u001b[0;34m\u001b[0m\u001b[0m\n\u001b[0;32m---> 22\u001b[0;31m \u001b[0mprint\u001b[0m\u001b[0;34m(\u001b[0m\u001b[0mtable_list\u001b[0m\u001b[0;34m(\u001b[0m\u001b[0;34m)\u001b[0m\u001b[0;34m)\u001b[0m\u001b[0;34m\u001b[0m\u001b[0;34m\u001b[0m\u001b[0m\n\u001b[0m",
      "\u001b[0;32m/tmp/ipykernel_16621/4120531536.py\u001b[0m in \u001b[0;36mtable_list\u001b[0;34m()\u001b[0m\n\u001b[1;32m      2\u001b[0m     \u001b[0;32mglobal\u001b[0m \u001b[0mdb_table_list\u001b[0m\u001b[0;34m\u001b[0m\u001b[0;34m\u001b[0m\u001b[0m\n\u001b[1;32m      3\u001b[0m     \u001b[0mtable_list\u001b[0m \u001b[0;34m=\u001b[0m \u001b[0;34m[\u001b[0m\u001b[0;34m]\u001b[0m\u001b[0;34m\u001b[0m\u001b[0;34m\u001b[0m\u001b[0m\n\u001b[0;32m----> 4\u001b[0;31m     \u001b[0mdb_connect\u001b[0m\u001b[0;34m(\u001b[0m\u001b[0;34m)\u001b[0m\u001b[0;34m\u001b[0m\u001b[0;34m\u001b[0m\u001b[0m\n\u001b[0m\u001b[1;32m      5\u001b[0m     \u001b[0;31m# Creazione di un cursore\u001b[0m\u001b[0;34m\u001b[0m\u001b[0;34m\u001b[0m\u001b[0m\n\u001b[1;32m      6\u001b[0m     \u001b[0mcursor\u001b[0m \u001b[0;34m=\u001b[0m \u001b[0mdb\u001b[0m\u001b[0;34m.\u001b[0m\u001b[0mcursor\u001b[0m\u001b[0;34m(\u001b[0m\u001b[0;34m)\u001b[0m\u001b[0;34m\u001b[0m\u001b[0;34m\u001b[0m\u001b[0m\n",
      "\u001b[0;32m/tmp/ipykernel_16621/915687058.py\u001b[0m in \u001b[0;36mdb_connect\u001b[0;34m()\u001b[0m\n\u001b[1;32m      3\u001b[0m     \u001b[0;32mglobal\u001b[0m \u001b[0mdb\u001b[0m\u001b[0;34m\u001b[0m\u001b[0;34m\u001b[0m\u001b[0m\n\u001b[1;32m      4\u001b[0m     \u001b[0;32mif\u001b[0m \u001b[0mdb_status\u001b[0m \u001b[0;34m!=\u001b[0m \u001b[0;34m\"connected\"\u001b[0m\u001b[0;34m:\u001b[0m\u001b[0;34m\u001b[0m\u001b[0;34m\u001b[0m\u001b[0m\n\u001b[0;32m----> 5\u001b[0;31m         db = mysql.connector.connect(\n\u001b[0m\u001b[1;32m      6\u001b[0m             \u001b[0mhost\u001b[0m\u001b[0;34m=\u001b[0m\u001b[0mdb_config\u001b[0m\u001b[0;34m[\u001b[0m\u001b[0;34m\"host\"\u001b[0m\u001b[0;34m]\u001b[0m\u001b[0;34m,\u001b[0m\u001b[0;34m\u001b[0m\u001b[0;34m\u001b[0m\u001b[0m\n\u001b[1;32m      7\u001b[0m             \u001b[0mport\u001b[0m\u001b[0;34m=\u001b[0m\u001b[0mdb_config\u001b[0m\u001b[0;34m[\u001b[0m\u001b[0;34m\"port\"\u001b[0m\u001b[0;34m]\u001b[0m\u001b[0;34m,\u001b[0m\u001b[0;34m\u001b[0m\u001b[0;34m\u001b[0m\u001b[0m\n",
      "\u001b[0;32m~/.local/lib/python3.10/site-packages/mysql/connector/pooling.py\u001b[0m in \u001b[0;36mconnect\u001b[0;34m(*args, **kwargs)\u001b[0m\n\u001b[1;32m    320\u001b[0m \u001b[0;34m\u001b[0m\u001b[0m\n\u001b[1;32m    321\u001b[0m     \u001b[0;32mif\u001b[0m \u001b[0mCMySQLConnection\u001b[0m \u001b[0;32mand\u001b[0m \u001b[0;32mnot\u001b[0m \u001b[0muse_pure\u001b[0m\u001b[0;34m:\u001b[0m\u001b[0;34m\u001b[0m\u001b[0;34m\u001b[0m\u001b[0m\n\u001b[0;32m--> 322\u001b[0;31m         \u001b[0;32mreturn\u001b[0m \u001b[0mCMySQLConnection\u001b[0m\u001b[0;34m(\u001b[0m\u001b[0;34m*\u001b[0m\u001b[0margs\u001b[0m\u001b[0;34m,\u001b[0m \u001b[0;34m**\u001b[0m\u001b[0mkwargs\u001b[0m\u001b[0;34m)\u001b[0m\u001b[0;34m\u001b[0m\u001b[0;34m\u001b[0m\u001b[0m\n\u001b[0m\u001b[1;32m    323\u001b[0m     \u001b[0;32mreturn\u001b[0m \u001b[0mMySQLConnection\u001b[0m\u001b[0;34m(\u001b[0m\u001b[0;34m*\u001b[0m\u001b[0margs\u001b[0m\u001b[0;34m,\u001b[0m \u001b[0;34m**\u001b[0m\u001b[0mkwargs\u001b[0m\u001b[0;34m)\u001b[0m\u001b[0;34m\u001b[0m\u001b[0;34m\u001b[0m\u001b[0m\n\u001b[1;32m    324\u001b[0m \u001b[0;34m\u001b[0m\u001b[0m\n",
      "\u001b[0;32m~/.local/lib/python3.10/site-packages/mysql/connector/connection_cext.py\u001b[0m in \u001b[0;36m__init__\u001b[0;34m(self, **kwargs)\u001b[0m\n\u001b[1;32m    138\u001b[0m         \u001b[0;32mif\u001b[0m \u001b[0mkwargs\u001b[0m\u001b[0;34m:\u001b[0m\u001b[0;34m\u001b[0m\u001b[0;34m\u001b[0m\u001b[0m\n\u001b[1;32m    139\u001b[0m             \u001b[0;32mtry\u001b[0m\u001b[0;34m:\u001b[0m\u001b[0;34m\u001b[0m\u001b[0;34m\u001b[0m\u001b[0m\n\u001b[0;32m--> 140\u001b[0;31m                 \u001b[0mself\u001b[0m\u001b[0;34m.\u001b[0m\u001b[0mconnect\u001b[0m\u001b[0;34m(\u001b[0m\u001b[0;34m**\u001b[0m\u001b[0mkwargs\u001b[0m\u001b[0;34m)\u001b[0m\u001b[0;34m\u001b[0m\u001b[0;34m\u001b[0m\u001b[0m\n\u001b[0m\u001b[1;32m    141\u001b[0m             \u001b[0;32mexcept\u001b[0m \u001b[0mException\u001b[0m\u001b[0;34m:\u001b[0m\u001b[0;34m\u001b[0m\u001b[0;34m\u001b[0m\u001b[0m\n\u001b[1;32m    142\u001b[0m                 \u001b[0mself\u001b[0m\u001b[0;34m.\u001b[0m\u001b[0mclose\u001b[0m\u001b[0;34m(\u001b[0m\u001b[0;34m)\u001b[0m\u001b[0;34m\u001b[0m\u001b[0;34m\u001b[0m\u001b[0m\n",
      "\u001b[0;32m~/.local/lib/python3.10/site-packages/mysql/connector/abstracts.py\u001b[0m in \u001b[0;36mconnect\u001b[0;34m(self, **kwargs)\u001b[0m\n\u001b[1;32m   1361\u001b[0m \u001b[0;34m\u001b[0m\u001b[0m\n\u001b[1;32m   1362\u001b[0m         \u001b[0mself\u001b[0m\u001b[0;34m.\u001b[0m\u001b[0mdisconnect\u001b[0m\u001b[0;34m(\u001b[0m\u001b[0;34m)\u001b[0m\u001b[0;34m\u001b[0m\u001b[0;34m\u001b[0m\u001b[0m\n\u001b[0;32m-> 1363\u001b[0;31m         \u001b[0mself\u001b[0m\u001b[0;34m.\u001b[0m\u001b[0m_open_connection\u001b[0m\u001b[0;34m(\u001b[0m\u001b[0;34m)\u001b[0m\u001b[0;34m\u001b[0m\u001b[0;34m\u001b[0m\u001b[0m\n\u001b[0m\u001b[1;32m   1364\u001b[0m \u001b[0;34m\u001b[0m\u001b[0m\n\u001b[1;32m   1365\u001b[0m         charset, collation = (\n",
      "\u001b[0;32m~/.local/lib/python3.10/site-packages/mysql/connector/connection_cext.py\u001b[0m in \u001b[0;36m_open_connection\u001b[0;34m(self)\u001b[0m\n\u001b[1;32m    326\u001b[0m                 \u001b[0mself\u001b[0m\u001b[0;34m.\u001b[0m\u001b[0mconverter\u001b[0m\u001b[0;34m.\u001b[0m\u001b[0mstr_fallback\u001b[0m \u001b[0;34m=\u001b[0m \u001b[0mself\u001b[0m\u001b[0;34m.\u001b[0m\u001b[0m_converter_str_fallback\u001b[0m\u001b[0;34m\u001b[0m\u001b[0;34m\u001b[0m\u001b[0m\n\u001b[1;32m    327\u001b[0m         \u001b[0;32mexcept\u001b[0m \u001b[0mMySQLInterfaceError\u001b[0m \u001b[0;32mas\u001b[0m \u001b[0merr\u001b[0m\u001b[0;34m:\u001b[0m\u001b[0;34m\u001b[0m\u001b[0;34m\u001b[0m\u001b[0m\n\u001b[0;32m--> 328\u001b[0;31m             raise get_mysql_exception(\n\u001b[0m\u001b[1;32m    329\u001b[0m                 \u001b[0mmsg\u001b[0m\u001b[0;34m=\u001b[0m\u001b[0merr\u001b[0m\u001b[0;34m.\u001b[0m\u001b[0mmsg\u001b[0m\u001b[0;34m,\u001b[0m \u001b[0merrno\u001b[0m\u001b[0;34m=\u001b[0m\u001b[0merr\u001b[0m\u001b[0;34m.\u001b[0m\u001b[0merrno\u001b[0m\u001b[0;34m,\u001b[0m \u001b[0msqlstate\u001b[0m\u001b[0;34m=\u001b[0m\u001b[0merr\u001b[0m\u001b[0;34m.\u001b[0m\u001b[0msqlstate\u001b[0m\u001b[0;34m\u001b[0m\u001b[0;34m\u001b[0m\u001b[0m\n\u001b[1;32m    330\u001b[0m             ) from err\n",
      "\u001b[0;31mDatabaseError\u001b[0m: 2003 (HY000): Can't connect to MySQL server on '127.0.0.1:3306' (111)"
     ]
    }
   ],
   "source": [
    "def table_list():\n",
    "    global db_table_list\n",
    "    table_list = []\n",
    "    db_connect()\n",
    "    # Creazione di un cursore\n",
    "    cursor = db.cursor()\n",
    "    # Query per ottenere l'elenco delle tabelle\n",
    "    query = \"SHOW TABLES\"\n",
    "    # Esecuzione della query\n",
    "    cursor.execute(query)\n",
    "    # Recupero dei risultati\n",
    "    tables = cursor.fetchall()\n",
    "    # Stampare l'elenco delle tabelle\n",
    "    #print(\"Tabelle nel database aziendadb:\")\n",
    "    for table in tables:\n",
    "        #print(table[0])\n",
    "        table_list = table_list + [ table[0] ]\n",
    "    # Chiusura del cursore e della connessione\n",
    "    cursor.close()\n",
    "    db_table_list = table_list\n",
    "    return table_list\n",
    "print(table_list())"
   ]
  },
  {
   "cell_type": "code",
   "execution_count": null,
   "metadata": {},
   "outputs": [],
   "source": [
    "def print_table_contenent( table_name ):\n",
    "    table_list()\n",
    "    if table_name in db_table_list:\n",
    "        print(\"table exists\")\n",
    "        db_connect()\n",
    "        # Creazione di un cursore\n",
    "        cursor = db.cursor()\n",
    "        # Nome della tabella da cui recuperare i dati\n",
    "        #table_name = \"CUSTOMER\"\n",
    "        # Query per selezionare tutti i dati dalla tabella\n",
    "        query = f\"SELECT * FROM {table_name}\"\n",
    "        # Esecuzione della query\n",
    "        cursor.execute(query)\n",
    "        # Recupero dei risultati\n",
    "        rows = cursor.fetchall()\n",
    "        # Stampare il contenuto della tabella\n",
    "        print(f\"Contenuto della tabella {table_name}:\")\n",
    "        for row in rows:\n",
    "            print(row)\n",
    "        # Chiusura del cursore e della connessione\n",
    "        cursor.close()\n",
    "\n",
    "        "
   ]
  },
  {
   "cell_type": "code",
   "execution_count": null,
   "metadata": {},
   "outputs": [
    {
     "name": "stdout",
     "output_type": "stream",
     "text": [
      "table exists\n",
      "Contenuto della tabella user:\n",
      "(1, 'Federico', 'Villata', 'Ilvillo', 'rocchino16cm', 'vllfrc98s21', 2147483647, 'federicovillata@gmail.com', 'via rossi 2, Torino', '21/11/1998', 'M', '0', '0', '0')\n",
      "(2, None, None, 'Luca', 'password', None, None, None, None, None, None, None, None, None)\n",
      "(3, 'Francesco', 'Bianco', 'Fra', 'password', 'Frnc99x72', 11111111, 'francesco@gmail.com', 'via torino 5, Chivasso', '5/5/1872', 'M', '0', '0', '0')\n",
      "(4, 'Roberta', 'Troia', 'robi', 'chimica', 'rbttr98dqq', 22109832, 'robertatroia@yahoo.it', 'via ciao 11, torino', '21/11/1998', 'F', '0', '0', '0')\n",
      "(5, 'Federico', 'bianchi', 'Fede', 'Password', 'asddsdsdasd', 124325365, 'federicovillata1998@gmail.com', 'via rossi 5, chieri', '21/11/1998', 'M', '0', '0', '0')\n",
      "(6, 'carlo', 'cracco', 'carlo', 'oassword', '1', 1, '1', '1', '1', '1', '1', '1', '1')\n"
     ]
    }
   ],
   "source": [
    "print_table_contenent( \"user\" )"
   ]
  },
  {
   "cell_type": "code",
   "execution_count": null,
   "metadata": {},
   "outputs": [],
   "source": [
    "def add_row_to_table(table_name, data):\n",
    "    try:\n",
    "        db_connect()  # Assicurati che la connessione al database sia attiva\n",
    "        if db_status == \"connected\":\n",
    "            # Creazione di un cursore\n",
    "            cursor = db.cursor()\n",
    "            # Query per inserire una nuova riga nella tabella\n",
    "            query = f\"INSERT INTO {table_name} (column1, column2, column3) VALUES (%s, %s, %s)\"  # Sostituisci con i nomi delle colonne e i valori\n",
    "            # Esecuzione della query\n",
    "            cursor.execute(query, data)\n",
    "            # Applica le modifiche al database\n",
    "            db.commit()\n",
    "            print(f\"Riga aggiunta alla tabella {table_name}\")\n",
    "            # Chiusura del cursore\n",
    "            cursor.close()\n",
    "        else:\n",
    "            print(\"Connessione al database non riuscita.\")\n",
    "    except mysql.connector.Error as err:\n",
    "        print(f\"Errore di MySQL: {err}\")\n",
    "        db.rollback()  # Annulla le modifiche in caso di errore\n",
    "\n",
    "    "
   ]
  },
  {
   "cell_type": "code",
   "execution_count": null,
   "metadata": {},
   "outputs": [],
   "source": [
    "new_row_data = (\"valore1\", \"valore2\", \"valore3\")  # Sostituisci con i valori da inserire\n",
    "# Chiamata alla funzione per aggiungere una riga alla tabella\n",
    "add_row_to_table(\"nome_tabella\", new_row_data)  # Sostituisci \"nome_tabella\" con il nome della tua tabella"
   ]
  },
  {
   "cell_type": "code",
   "execution_count": null,
   "metadata": {},
   "outputs": [],
   "source": [
    "def update_row_in_table(table_name, data, condition_columns):\n",
    "    try:\n",
    "        db_connect()  # Assicurati che la connessione al database sia attiva\n",
    "        if db_status == \"connected\":\n",
    "            # Creazione di un cursore\n",
    "            cursor = db.cursor()\n",
    "            # Creazione della stringa di condizione\n",
    "            condition_string = \" AND \".join([f\"{col} = %s\" for col in condition_columns])\n",
    "            # Query per aggiornare una riga nella tabella\n",
    "            query = f\"UPDATE {table_name} SET \"\n",
    "            query += \", \".join([f\"{col} = %s\" for col in data.keys()])\n",
    "            query += f\" WHERE {condition_string}\"\n",
    "            # Esecuzione della query\n",
    "            cursor.execute(query, list(data.values()) + condition_columns)\n",
    "            # Applica le modifiche al database\n",
    "            db.commit()\n",
    "            print(f\"Riga aggiornata nella tabella {table_name}\")\n",
    "            # Chiusura del cursore\n",
    "            cursor.close()\n",
    "        else:\n",
    "            print(\"Connessione al database non riuscita.\")\n",
    "    except mysql.connector.Error as err:\n",
    "        print(f\"Errore di MySQL: {err}\")\n",
    "        db.rollback()  # Annulla le modifiche in caso di errore\n",
    "\n",
    "# Dati per l'aggiornamento della riga\n",
    "table_name = \"nome_tabella\"  # Sostituisci con il nome della tua tabella\n",
    "data = {\"colonna1\": \"nuovo_valore1\", \"colonna2\": \"nuovo_valore2\"}  # Sostituisci con i nuovi valori\n",
    "condition_columns = [\"colonna_condizione1\", \"colonna_condizione2\"]  # Sostituisci con le colonne di condizione\n",
    "\n",
    "# Chiamata alla funzione per aggiornare una riga nella tabella\n",
    "update_row_in_table(table_name, data, condition_columns)"
   ]
  },
  {
   "cell_type": "code",
   "execution_count": null,
   "metadata": {},
   "outputs": [],
   "source": [
    "def delete_row_from_table(table_name, condition_columns):\n",
    "    try:\n",
    "        db_connect()  # Assicurati che la connessione al database sia attiva\n",
    "        if db_status == \"connected\":\n",
    "            # Creazione di un cursore\n",
    "            cursor = db.cursor()\n",
    "            # Creazione della stringa di condizione\n",
    "            condition_string = \" AND \".join([f\"{col} = %s\" for col in condition_columns])\n",
    "            # Query per eliminare una riga dalla tabella\n",
    "            query = f\"DELETE FROM {table_name} WHERE {condition_string}\"\n",
    "            # Esecuzione della query\n",
    "            cursor.execute(query, condition_columns)\n",
    "            # Applica le modifiche al database\n",
    "            db.commit()\n",
    "            print(f\"Riga eliminata dalla tabella {table_name}\")\n",
    "            # Chiusura del cursore\n",
    "            cursor.close()\n",
    "        else:\n",
    "            print(\"Connessione al database non riuscita.\")\n",
    "    except mysql.connector.Error as err:\n",
    "        print(f\"Errore di MySQL: {err}\")\n",
    "        db.rollback()  # Annulla le modifiche in caso di errore\n",
    "\n",
    "# Colonne di condizione per l'eliminazione della riga\n",
    "condition_columns = [\"colonna_condizione1\", \"colonna_condizione2\"]  # Sostituisci con le colonne di condizione\n",
    "table_name = \"nome_tabella\"  # Sostituisci con il nome della tua tabella\n",
    "\n",
    "# Chiamata alla funzione per eliminare una riga dalla tabella\n",
    "delete_row_from_table(table_name, condition_columns)"
   ]
  }
 ],
 "metadata": {
  "kernelspec": {
   "display_name": "Python 3",
   "language": "python",
   "name": "python3"
  },
  "language_info": {
   "codemirror_mode": {
    "name": "ipython",
    "version": 3
   },
   "file_extension": ".py",
   "mimetype": "text/x-python",
   "name": "python",
   "nbconvert_exporter": "python",
   "pygments_lexer": "ipython3",
   "version": "3.10.12"
  }
 },
 "nbformat": 4,
 "nbformat_minor": 2
}
